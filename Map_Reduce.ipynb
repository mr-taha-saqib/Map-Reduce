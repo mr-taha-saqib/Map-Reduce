{
  "nbformat": 4,
  "nbformat_minor": 0,
  "metadata": {
    "colab": {
      "provenance": []
    },
    "kernelspec": {
      "name": "python3",
      "display_name": "Python 3"
    },
    "language_info": {
      "name": "python"
    }
  },
  "cells": [
    {
      "cell_type": "code",
      "execution_count": null,
      "metadata": {
        "colab": {
          "base_uri": "https://localhost:8080/"
        },
        "id": "zJE15MbRRiLl",
        "outputId": "96c41f00-3bc6-40f8-ffda-699563737053"
      },
      "outputs": [
        {
          "output_type": "stream",
          "name": "stdout",
          "text": [
            "Looking in indexes: https://pypi.org/simple, https://us-python.pkg.dev/colab-wheels/public/simple/\n",
            "Requirement already satisfied: mrjob in /usr/local/lib/python3.9/dist-packages (0.7.4)\n",
            "Requirement already satisfied: PyYAML>=3.10 in /usr/local/lib/python3.9/dist-packages (from mrjob) (6.0)\n"
          ]
        }
      ],
      "source": [
        "pip install mrjob"
      ]
    },
    {
      "cell_type": "code",
      "source": [
        "#Q1\n",
        "def count_words_of_length_5(line):   # Map function\n",
        "    words = line.split()\n",
        "    counts = {}\n",
        "    for word in words:\n",
        "        if len(word) > 5:\n",
        "            if word in counts:\n",
        "                counts[word] += 1\n",
        "            else:\n",
        "                counts[word] = 0\n",
        "    return counts\n",
        "\n",
        "def combine_counts(counts1, counts2):\n",
        "    for key in counts2:\n",
        "        if key in counts1:\n",
        "            counts1[key] += counts2[key]\n",
        "        else:\n",
        "            counts1[key] = counts2[key]\n",
        "    return counts1\n",
        "\n",
        "if __name__ == '__main__': # main function\n",
        "    with open('lab.txt') as file:\n",
        "        lines = file.readlines()\n",
        "    word_counts = {}\n",
        "    for line in lines:\n",
        "        counts = count_words_of_length_5(line)\n",
        "        word_counts = combine_counts(word_counts, counts)\n",
        "        print(f\"{counts}\")"
      ],
      "metadata": {
        "colab": {
          "base_uri": "https://localhost:8080/"
        },
        "id": "YFYPlTuHkzYa",
        "outputId": "04d52886-704c-4945-ac57-4cd3096a59eb"
      },
      "execution_count": null,
      "outputs": [
        {
          "output_type": "stream",
          "name": "stdout",
          "text": [
            "{'12-3-20,': 0}\n",
            "{'14-04-22,': 0}\n",
            "{'20-4-22': 0}\n",
            "{'20-4-22': 0}\n",
            "{'20-4-22': 0}\n"
          ]
        }
      ]
    },
    {
      "cell_type": "markdown",
      "source": [
        "All 5 will play 0 songs (more than 5 times)"
      ],
      "metadata": {
        "id": "s8aZ3q3Veqzo"
      }
    },
    {
      "cell_type": "code",
      "source": [
        "! python \"songcount.py\" \"lab.txt\""
      ],
      "metadata": {
        "colab": {
          "base_uri": "https://localhost:8080/"
        },
        "id": "dW9c8PR8lF8Y",
        "outputId": "88efca79-21b1-44c6-8f46-2ee3f4804567"
      },
      "execution_count": null,
      "outputs": [
        {
          "output_type": "stream",
          "name": "stdout",
          "text": [
            "No configs found; falling back on auto-configuration\n",
            "No configs specified for inline runner\n",
            "Creating temp directory /tmp/songcount.root.20230315.183349.511832\n",
            "Running step 1 of 1...\n",
            "\n",
            "Error while reading from /tmp/songcount.root.20230315.183349.511832/step/000/mapper/00002/input:\n",
            "\n",
            "Traceback (most recent call last):\n",
            "  File \"/content/songcount.py\", line 32, in <module>\n",
            "    SongCount.run()\n",
            "  File \"/usr/local/lib/python3.9/dist-packages/mrjob/job.py\", line 616, in run\n",
            "    cls().execute()\n",
            "  File \"/usr/local/lib/python3.9/dist-packages/mrjob/job.py\", line 687, in execute\n",
            "    self.run_job()\n",
            "  File \"/usr/local/lib/python3.9/dist-packages/mrjob/job.py\", line 636, in run_job\n",
            "    runner.run()\n",
            "  File \"/usr/local/lib/python3.9/dist-packages/mrjob/runner.py\", line 503, in run\n",
            "    self._run()\n",
            "  File \"/usr/local/lib/python3.9/dist-packages/mrjob/sim.py\", line 161, in _run\n",
            "    self._run_step(step, step_num)\n",
            "  File \"/usr/local/lib/python3.9/dist-packages/mrjob/sim.py\", line 170, in _run_step\n",
            "    self._run_streaming_step(step, step_num)\n",
            "  File \"/usr/local/lib/python3.9/dist-packages/mrjob/sim.py\", line 181, in _run_streaming_step\n",
            "    self._run_mappers_and_combiners(step_num, map_splits)\n",
            "  File \"/usr/local/lib/python3.9/dist-packages/mrjob/sim.py\", line 219, in _run_mappers_and_combiners\n",
            "    self._run_multiple(\n",
            "  File \"/usr/local/lib/python3.9/dist-packages/mrjob/sim.py\", line 130, in _run_multiple\n",
            "    func()\n",
            "  File \"/usr/local/lib/python3.9/dist-packages/mrjob/sim.py\", line 724, in _run_mapper_and_combiner\n",
            "    run_mapper()\n",
            "  File \"/usr/local/lib/python3.9/dist-packages/mrjob/sim.py\", line 746, in _run_task\n",
            "    invoke_task(\n",
            "  File \"/usr/local/lib/python3.9/dist-packages/mrjob/inline.py\", line 133, in invoke_task\n",
            "    task.execute()\n",
            "  File \"/usr/local/lib/python3.9/dist-packages/mrjob/job.py\", line 675, in execute\n",
            "    self.run_mapper(self.options.step_num)\n",
            "  File \"/usr/local/lib/python3.9/dist-packages/mrjob/job.py\", line 760, in run_mapper\n",
            "    for k, v in self.map_pairs(read_lines(), step_num=step_num):\n",
            "  File \"/usr/local/lib/python3.9/dist-packages/mrjob/job.py\", line 830, in map_pairs\n",
            "    for k, v in mapper(key, value) or ():\n",
            "  File \"/content/songcount.py\", line 9, in mapper\n",
            "    date = fields[1]\n",
            "IndexError: list index out of range\n"
          ]
        }
      ]
    },
    {
      "cell_type": "code",
      "source": [
        "#Q2\n",
        "def count_words_of_length_5(line):   # Map function\n",
        "    words = line.split()\n",
        "    counts = {}\n",
        "    for word in words:\n",
        "        if len(word) > 1:\n",
        "            if word in counts:\n",
        "                counts[word] += 1\n",
        "            else:\n",
        "                counts[word] = 1\n",
        "    return counts\n",
        "\n",
        "def combine_counts(counts1, counts2):\n",
        "    for key in counts2:\n",
        "        if key in counts1:\n",
        "            counts1[key] += counts2[key]\n",
        "        else:\n",
        "            counts1[key] = counts2[key]\n",
        "    return counts1\n",
        "\n",
        "if __name__ == '__main__': # main function\n",
        "    with open('lab.txt') as file:\n",
        "        lines = file.readlines()\n",
        "    word_counts = {}\n",
        "    for line in lines:\n",
        "        counts = count_words_of_length_5(line)\n",
        "        word_counts = combine_counts(word_counts, counts)\n",
        "        print(f\"{counts}\")"
      ],
      "metadata": {
        "colab": {
          "base_uri": "https://localhost:8080/"
        },
        "id": "EXMdu3JVlMpF",
        "outputId": "67c784d4-c2cb-4ea9-cdee-eb5fccbd87b1"
      },
      "execution_count": null,
      "outputs": [
        {
          "output_type": "stream",
          "name": "stdout",
          "text": [
            "{'Ali,': 1, '12-3-20,': 1, 'S1,': 1, 'S2,S3': 1}\n",
            "{'Fahad': 1, '14-04-22,': 1, 'S1,': 1, 'S2,': 1, 'S7,S3': 1}\n",
            "{'Ali': 1, '20-4-22': 1, 'S1,': 1, 'S2': 1}\n",
            "{'Sara': 1, '20-4-22': 1, 'S1,': 1, 'S7,': 1, 'S9': 1}\n",
            "{'Amina': 1, '20-4-22': 1, 'S1': 1}\n"
          ]
        }
      ]
    },
    {
      "cell_type": "code",
      "source": [
        "! python \"songcount.py\" \"lab.txt\""
      ],
      "metadata": {
        "colab": {
          "base_uri": "https://localhost:8080/"
        },
        "id": "no_-itXVlNRn",
        "outputId": "e0e9255a-e31b-418b-af0f-69f77218bc0b"
      },
      "execution_count": null,
      "outputs": [
        {
          "output_type": "stream",
          "name": "stdout",
          "text": [
            "No configs found; falling back on auto-configuration\n",
            "No configs specified for inline runner\n",
            "Creating temp directory /tmp/songcount.root.20230315.183349.872809\n",
            "Running step 1 of 1...\n",
            "\n",
            "Error while reading from /tmp/songcount.root.20230315.183349.872809/step/000/mapper/00002/input:\n",
            "\n",
            "Traceback (most recent call last):\n",
            "  File \"/content/songcount.py\", line 32, in <module>\n",
            "    SongCount.run()\n",
            "  File \"/usr/local/lib/python3.9/dist-packages/mrjob/job.py\", line 616, in run\n",
            "    cls().execute()\n",
            "  File \"/usr/local/lib/python3.9/dist-packages/mrjob/job.py\", line 687, in execute\n",
            "    self.run_job()\n",
            "  File \"/usr/local/lib/python3.9/dist-packages/mrjob/job.py\", line 636, in run_job\n",
            "    runner.run()\n",
            "  File \"/usr/local/lib/python3.9/dist-packages/mrjob/runner.py\", line 503, in run\n",
            "    self._run()\n",
            "  File \"/usr/local/lib/python3.9/dist-packages/mrjob/sim.py\", line 161, in _run\n",
            "    self._run_step(step, step_num)\n",
            "  File \"/usr/local/lib/python3.9/dist-packages/mrjob/sim.py\", line 170, in _run_step\n",
            "    self._run_streaming_step(step, step_num)\n",
            "  File \"/usr/local/lib/python3.9/dist-packages/mrjob/sim.py\", line 181, in _run_streaming_step\n",
            "    self._run_mappers_and_combiners(step_num, map_splits)\n",
            "  File \"/usr/local/lib/python3.9/dist-packages/mrjob/sim.py\", line 219, in _run_mappers_and_combiners\n",
            "    self._run_multiple(\n",
            "  File \"/usr/local/lib/python3.9/dist-packages/mrjob/sim.py\", line 130, in _run_multiple\n",
            "    func()\n",
            "  File \"/usr/local/lib/python3.9/dist-packages/mrjob/sim.py\", line 724, in _run_mapper_and_combiner\n",
            "    run_mapper()\n",
            "  File \"/usr/local/lib/python3.9/dist-packages/mrjob/sim.py\", line 746, in _run_task\n",
            "    invoke_task(\n",
            "  File \"/usr/local/lib/python3.9/dist-packages/mrjob/inline.py\", line 133, in invoke_task\n",
            "    task.execute()\n",
            "  File \"/usr/local/lib/python3.9/dist-packages/mrjob/job.py\", line 675, in execute\n",
            "    self.run_mapper(self.options.step_num)\n",
            "  File \"/usr/local/lib/python3.9/dist-packages/mrjob/job.py\", line 760, in run_mapper\n",
            "    for k, v in self.map_pairs(read_lines(), step_num=step_num):\n",
            "  File \"/usr/local/lib/python3.9/dist-packages/mrjob/job.py\", line 830, in map_pairs\n",
            "    for k, v in mapper(key, value) or ():\n",
            "  File \"/content/songcount.py\", line 9, in mapper\n",
            "    date = fields[1]\n",
            "IndexError: list index out of range\n"
          ]
        }
      ]
    },
    {
      "cell_type": "code",
      "source": [
        "%%file songcount.py\n",
        "from mrjob.job import MRJob #Q3 with class\n",
        "\n",
        "class SongCount(MRJob):\n",
        "\n",
        "    def mapper(self, _, line):\n",
        "        user, date, *songs = line.split(',')\n",
        "        for song in songs:\n",
        "            yield user, 1\n",
        "    def reducer(self, user, counts):\n",
        "        total_songs = sum(counts)\n",
        "        yield user, total_songs\n",
        "\n",
        "    def combiner(self, user, counts):\n",
        "        total_songs = sum(counts)\n",
        "        yield user, total_songs\n",
        "\n",
        "\n",
        "if __name__ == '__main__':\n",
        "    SongCount.run()"
      ],
      "metadata": {
        "colab": {
          "base_uri": "https://localhost:8080/"
        },
        "id": "AzHOtWsTSbIN",
        "outputId": "2da64e4e-9f32-46d3-b015-de2a12018571"
      },
      "execution_count": null,
      "outputs": [
        {
          "output_type": "stream",
          "name": "stdout",
          "text": [
            "Overwriting songcount.py\n"
          ]
        }
      ]
    },
    {
      "cell_type": "code",
      "source": [
        "! python \"songcount.py\" \"lab.txt\""
      ],
      "metadata": {
        "id": "cDgwpDVmT5mX",
        "colab": {
          "base_uri": "https://localhost:8080/"
        },
        "outputId": "1d0e68e1-a2c8-4159-aa35-b34dbeb49f89"
      },
      "execution_count": null,
      "outputs": [
        {
          "output_type": "stream",
          "name": "stdout",
          "text": [
            "No configs found; falling back on auto-configuration\n",
            "No configs specified for inline runner\n",
            "Creating temp directory /tmp/songcount.root.20230315.183350.215141\n",
            "Running step 1 of 1...\n",
            "\n",
            "Error while reading from /tmp/songcount.root.20230315.183350.215141/step/000/mapper/00002/input:\n",
            "\n",
            "Traceback (most recent call last):\n",
            "  File \"/content/songcount.py\", line 19, in <module>\n",
            "    SongCount.run()\n",
            "  File \"/usr/local/lib/python3.9/dist-packages/mrjob/job.py\", line 616, in run\n",
            "    cls().execute()\n",
            "  File \"/usr/local/lib/python3.9/dist-packages/mrjob/job.py\", line 687, in execute\n",
            "    self.run_job()\n",
            "  File \"/usr/local/lib/python3.9/dist-packages/mrjob/job.py\", line 636, in run_job\n",
            "    runner.run()\n",
            "  File \"/usr/local/lib/python3.9/dist-packages/mrjob/runner.py\", line 503, in run\n",
            "    self._run()\n",
            "  File \"/usr/local/lib/python3.9/dist-packages/mrjob/sim.py\", line 161, in _run\n",
            "    self._run_step(step, step_num)\n",
            "  File \"/usr/local/lib/python3.9/dist-packages/mrjob/sim.py\", line 170, in _run_step\n",
            "    self._run_streaming_step(step, step_num)\n",
            "  File \"/usr/local/lib/python3.9/dist-packages/mrjob/sim.py\", line 181, in _run_streaming_step\n",
            "    self._run_mappers_and_combiners(step_num, map_splits)\n",
            "  File \"/usr/local/lib/python3.9/dist-packages/mrjob/sim.py\", line 219, in _run_mappers_and_combiners\n",
            "    self._run_multiple(\n",
            "  File \"/usr/local/lib/python3.9/dist-packages/mrjob/sim.py\", line 130, in _run_multiple\n",
            "    func()\n",
            "  File \"/usr/local/lib/python3.9/dist-packages/mrjob/sim.py\", line 724, in _run_mapper_and_combiner\n",
            "    run_mapper()\n",
            "  File \"/usr/local/lib/python3.9/dist-packages/mrjob/sim.py\", line 746, in _run_task\n",
            "    invoke_task(\n",
            "  File \"/usr/local/lib/python3.9/dist-packages/mrjob/inline.py\", line 133, in invoke_task\n",
            "    task.execute()\n",
            "  File \"/usr/local/lib/python3.9/dist-packages/mrjob/job.py\", line 675, in execute\n",
            "    self.run_mapper(self.options.step_num)\n",
            "  File \"/usr/local/lib/python3.9/dist-packages/mrjob/job.py\", line 760, in run_mapper\n",
            "    for k, v in self.map_pairs(read_lines(), step_num=step_num):\n",
            "  File \"/usr/local/lib/python3.9/dist-packages/mrjob/job.py\", line 830, in map_pairs\n",
            "    for k, v in mapper(key, value) or ():\n",
            "  File \"/content/songcount.py\", line 6, in mapper\n",
            "    user, date, *songs = line.split(',')\n",
            "ValueError: not enough values to unpack (expected at least 2, got 1)\n"
          ]
        }
      ]
    },
    {
      "cell_type": "code",
      "source": [
        "%%file songcount.py\n",
        "from mrjob.job import MRJob #Q4\n",
        "from mrjob.step import MRStep\n",
        "\n",
        "class AverageSongsPerday(MRJob):\n",
        "\n",
        "    def mapper(self, _, line):\n",
        "        username, date, *songs = line.split(',')\n",
        "        yield date, len(songs)\n",
        "\n",
        "    def reducer(self, date, counts):\n",
        "        total_songs = sum(counts)\n",
        "        total_days = 1\n",
        "        for _ in counts:\n",
        "            total_days += 1\n",
        "        yield None, total_songs/total_days\n",
        "\n",
        "    def combiner(self, date, counts):\n",
        "        yield date, sum(counts)\n",
        "\n",
        "if __name__ == '__main__':\n",
        "    AverageSongsPerday.run()"
      ],
      "metadata": {
        "colab": {
          "base_uri": "https://localhost:8080/"
        },
        "id": "56Yo7lj_ecwv",
        "outputId": "adc96df7-51bc-42ba-9e71-225485eb3bcd"
      },
      "execution_count": null,
      "outputs": [
        {
          "output_type": "stream",
          "name": "stdout",
          "text": [
            "Overwriting songcount.py\n"
          ]
        }
      ]
    },
    {
      "cell_type": "code",
      "source": [
        "! python \"songcount.py\" \"lab.txt\""
      ],
      "metadata": {
        "colab": {
          "base_uri": "https://localhost:8080/"
        },
        "id": "5ytnGnXyiEtO",
        "outputId": "c94a355f-0f78-4385-8f1b-a00fad274c46"
      },
      "execution_count": null,
      "outputs": [
        {
          "output_type": "stream",
          "name": "stdout",
          "text": [
            "No configs found; falling back on auto-configuration\n",
            "No configs specified for inline runner\n",
            "Creating temp directory /tmp/songcount.root.20230315.183350.568023\n",
            "Running step 1 of 1...\n",
            "\n",
            "Error while reading from /tmp/songcount.root.20230315.183350.568023/step/000/mapper/00002/input:\n",
            "\n",
            "Traceback (most recent call last):\n",
            "  File \"/content/songcount.py\", line 21, in <module>\n",
            "    AverageSongsPerday.run()\n",
            "  File \"/usr/local/lib/python3.9/dist-packages/mrjob/job.py\", line 616, in run\n",
            "    cls().execute()\n",
            "  File \"/usr/local/lib/python3.9/dist-packages/mrjob/job.py\", line 687, in execute\n",
            "    self.run_job()\n",
            "  File \"/usr/local/lib/python3.9/dist-packages/mrjob/job.py\", line 636, in run_job\n",
            "    runner.run()\n",
            "  File \"/usr/local/lib/python3.9/dist-packages/mrjob/runner.py\", line 503, in run\n",
            "    self._run()\n",
            "  File \"/usr/local/lib/python3.9/dist-packages/mrjob/sim.py\", line 161, in _run\n",
            "    self._run_step(step, step_num)\n",
            "  File \"/usr/local/lib/python3.9/dist-packages/mrjob/sim.py\", line 170, in _run_step\n",
            "    self._run_streaming_step(step, step_num)\n",
            "  File \"/usr/local/lib/python3.9/dist-packages/mrjob/sim.py\", line 181, in _run_streaming_step\n",
            "    self._run_mappers_and_combiners(step_num, map_splits)\n",
            "  File \"/usr/local/lib/python3.9/dist-packages/mrjob/sim.py\", line 219, in _run_mappers_and_combiners\n",
            "    self._run_multiple(\n",
            "  File \"/usr/local/lib/python3.9/dist-packages/mrjob/sim.py\", line 130, in _run_multiple\n",
            "    func()\n",
            "  File \"/usr/local/lib/python3.9/dist-packages/mrjob/sim.py\", line 724, in _run_mapper_and_combiner\n",
            "    run_mapper()\n",
            "  File \"/usr/local/lib/python3.9/dist-packages/mrjob/sim.py\", line 746, in _run_task\n",
            "    invoke_task(\n",
            "  File \"/usr/local/lib/python3.9/dist-packages/mrjob/inline.py\", line 133, in invoke_task\n",
            "    task.execute()\n",
            "  File \"/usr/local/lib/python3.9/dist-packages/mrjob/job.py\", line 675, in execute\n",
            "    self.run_mapper(self.options.step_num)\n",
            "  File \"/usr/local/lib/python3.9/dist-packages/mrjob/job.py\", line 760, in run_mapper\n",
            "    for k, v in self.map_pairs(read_lines(), step_num=step_num):\n",
            "  File \"/usr/local/lib/python3.9/dist-packages/mrjob/job.py\", line 830, in map_pairs\n",
            "    for k, v in mapper(key, value) or ():\n",
            "  File \"/content/songcount.py\", line 7, in mapper\n",
            "    username, date, *songs = line.split(',')\n",
            "ValueError: not enough values to unpack (expected at least 2, got 1)\n"
          ]
        }
      ]
    },
    {
      "cell_type": "code",
      "source": [
        "%%file songcount.py\n",
        "\n",
        "from mrjob.job import MRJob #Q5\n",
        "from mrjob.step import MRStep\n",
        "\n",
        "class SongCount(MRJob):\n",
        "\n",
        "    def mapper(self, _, line):\n",
        "        fields = line.strip().split(',')\n",
        "        songs = fields[2:]\n",
        "        for song in songs:\n",
        "            yield (song, 1)\n",
        "\n",
        "    def reducer(self, song, counts):\n",
        "        yield (song, sum(counts))\n",
        "\n",
        "    def combiner(self, song, counts):\n",
        "        yield (song, sum(counts))\n",
        "if __name__ == '__main__':\n",
        "    SongCount.run()"
      ],
      "metadata": {
        "colab": {
          "base_uri": "https://localhost:8080/"
        },
        "id": "iYtbakKNSqfI",
        "outputId": "1762fc92-f610-44c8-99b7-39e43c6cc150"
      },
      "execution_count": null,
      "outputs": [
        {
          "output_type": "stream",
          "name": "stdout",
          "text": [
            "Overwriting songcount.py\n"
          ]
        }
      ]
    },
    {
      "cell_type": "code",
      "source": [
        "! python \"songcount.py\" \"lab.txt\""
      ],
      "metadata": {
        "colab": {
          "base_uri": "https://localhost:8080/"
        },
        "id": "rg_zFIgai2VJ",
        "outputId": "e4c3e441-1123-4345-80d3-51702f99351d"
      },
      "execution_count": null,
      "outputs": [
        {
          "output_type": "stream",
          "name": "stdout",
          "text": [
            "No configs found; falling back on auto-configuration\n",
            "No configs specified for inline runner\n",
            "Creating temp directory /tmp/songcount.root.20230315.183351.021451\n",
            "Running step 1 of 1...\n",
            "job output is in /tmp/songcount.root.20230315.183351.021451/output\n",
            "Streaming final output from /tmp/songcount.root.20230315.183351.021451/output...\n",
            "\"S3\"\t2\n",
            "\" S1\"\t1\n",
            "\" S2\"\t2\n",
            "\" S7\"\t1\n",
            "\" S9\"\t1\n",
            "Removing temp directory /tmp/songcount.root.20230315.183351.021451...\n"
          ]
        }
      ]
    },
    {
      "cell_type": "code",
      "source": [
        "%%file songcount.py\n",
        "from mrjob.job import MRJob #Q7\n",
        "from mrjob.step import MRStep\n",
        "\n",
        "class SongCount(MRJob):\n",
        "\n",
        "    def mapper(self, _, line):\n",
        "        fields = line.strip().split(',')\n",
        "        user = fields[0]\n",
        "        songs = fields[2:]\n",
        "        yield user, len(songs)\n",
        "\n",
        "\n",
        "    def reducer(self, user, song_counts):\n",
        "        yield None, (user, sum(song_counts))\n",
        "\n",
        "    def reducer_max_songs(self, _, user_song_counts):\n",
        "        max_user, max_song_count = None, 0\n",
        "        for user, song_count in user_song_counts:\n",
        "            if song_count > max_song_count:\n",
        "                max_user, max_song_count = user, song_count\n",
        "        yield max_user, max_song_count\n",
        "\n",
        "    def combiner(self, user, song_counts):\n",
        "        yield user, sum(song_counts)\n",
        "\n",
        "\n",
        "    def steps(self):\n",
        "        return [\n",
        "            MRStep(mapper=self.mapper, #recompiling\n",
        "                   combiner=self.combiner,\n",
        "                   reducer=self.reducer),\n",
        "            MRStep(reducer=self.reducer_max_songs)\n",
        "        ]\n",
        "\n",
        "if __name__ == '__main__':\n",
        "    SongCount.run()"
      ],
      "metadata": {
        "colab": {
          "base_uri": "https://localhost:8080/"
        },
        "id": "LoXoOuCqS4Ab",
        "outputId": "a87e046f-0d2a-4a38-c807-8770971b83ce"
      },
      "execution_count": null,
      "outputs": [
        {
          "output_type": "stream",
          "name": "stdout",
          "text": [
            "Overwriting songcount.py\n"
          ]
        }
      ]
    },
    {
      "cell_type": "code",
      "source": [
        "! python \"songcount.py\" \"lab.txt\""
      ],
      "metadata": {
        "colab": {
          "base_uri": "https://localhost:8080/"
        },
        "id": "or9ADR5Npw2C",
        "outputId": "9832b7a7-c668-4257-d8de-9881de3029c2"
      },
      "execution_count": null,
      "outputs": [
        {
          "output_type": "stream",
          "name": "stdout",
          "text": [
            "No configs found; falling back on auto-configuration\n",
            "No configs specified for inline runner\n",
            "Creating temp directory /tmp/songcount.root.20230315.183351.492172\n",
            "Running step 1 of 2...\n",
            "Running step 2 of 2...\n",
            "job output is in /tmp/songcount.root.20230315.183351.492172/output\n",
            "Streaming final output from /tmp/songcount.root.20230315.183351.492172/output...\n",
            "\"Fahad 14-04-22\"\t3\n",
            "Removing temp directory /tmp/songcount.root.20230315.183351.492172...\n"
          ]
        }
      ]
    },
    {
      "cell_type": "code",
      "source": [
        "%%file songcount.py\n",
        "from mrjob.job import MRJob #Q6,8\n",
        "from mrjob.step import MRStep\n",
        "\n",
        "class SongCount(MRJob):\n",
        "\n",
        "    def mapper(self, _, line):\n",
        "        fields = line.strip().split(',')\n",
        "        username = fields[0]\n",
        "        date = fields[1]\n",
        "        songs = fields[2:]\n",
        "        yield (date, (username, len(songs)))\n",
        "\n",
        "    def reducer(self, date, user_song):\n",
        "        max_user = None\n",
        "        max_songs = 0\n",
        "        for user, song_count in user_song:\n",
        "            if song_count > max_songs:\n",
        "                max_user = user\n",
        "                max_songs = song_count\n",
        "        yield (date, max_user)\n",
        "\n",
        "    def combiner(self, date, user_songs):\n",
        "        max_user = None\n",
        "        max_songs = 0\n",
        "        for user, song_count in user_songs:\n",
        "            if song_count > max_songs:\n",
        "                max_user = user\n",
        "                max_songs = song_count\n",
        "        yield (date, (max_user, max_songs))\n",
        "\n",
        "if __name__ == '__main__':\n",
        "       SongCount.run()\n",
        "       print(SongCount.counts)\n",
        "\n",
        "class SongCount(MRJob):\n",
        "\n",
        "    def mapper(self, _, line):\n",
        "        fields = line.strip().split(',')\n",
        "        if len(fields) == 3:\n",
        "            username, date, song_ids = fields[0], fields[1], fields[2].split()\n",
        "            yield (username, date), len(song_ids)\n",
        "\n",
        "    def combiner(self, user_date, song_counts):\n",
        "        yield user_date, sum(song_counts)\n",
        "\n",
        "    def reducer(self, user_date, song_counts):\n",
        "        total_songs = sum(song_counts)\n",
        "        yield user_date[0], total_songs\n",
        "\n",
        "if __name__ == '__main__':\n",
        "    SongCount.run()\n"
      ],
      "metadata": {
        "colab": {
          "base_uri": "https://localhost:8080/"
        },
        "id": "5bakvhvLp2DT",
        "outputId": "a8390091-0349-4ece-91eb-0930a40a5233"
      },
      "execution_count": null,
      "outputs": [
        {
          "output_type": "stream",
          "name": "stdout",
          "text": [
            "Overwriting songcount.py\n"
          ]
        }
      ]
    },
    {
      "cell_type": "code",
      "source": [
        "! python \"songcount.py\" \"lab.txt\""
      ],
      "metadata": {
        "colab": {
          "base_uri": "https://localhost:8080/"
        },
        "id": "Im2bAO-3p2dl",
        "outputId": "7b89c36d-d816-46bf-f073-1c8b4391a14b"
      },
      "execution_count": null,
      "outputs": [
        {
          "output_type": "stream",
          "name": "stdout",
          "text": [
            "No configs found; falling back on auto-configuration\n",
            "No configs specified for inline runner\n",
            "Creating temp directory /tmp/songcount.root.20230315.183351.847261\n",
            "Running step 1 of 1...\n",
            "\n",
            "Error while reading from /tmp/songcount.root.20230315.183351.847261/step/000/mapper/00002/input:\n",
            "\n",
            "Traceback (most recent call last):\n",
            "  File \"/content/songcount.py\", line 32, in <module>\n",
            "    SongCount.run()\n",
            "  File \"/usr/local/lib/python3.9/dist-packages/mrjob/job.py\", line 616, in run\n",
            "    cls().execute()\n",
            "  File \"/usr/local/lib/python3.9/dist-packages/mrjob/job.py\", line 687, in execute\n",
            "    self.run_job()\n",
            "  File \"/usr/local/lib/python3.9/dist-packages/mrjob/job.py\", line 636, in run_job\n",
            "    runner.run()\n",
            "  File \"/usr/local/lib/python3.9/dist-packages/mrjob/runner.py\", line 503, in run\n",
            "    self._run()\n",
            "  File \"/usr/local/lib/python3.9/dist-packages/mrjob/sim.py\", line 161, in _run\n",
            "    self._run_step(step, step_num)\n",
            "  File \"/usr/local/lib/python3.9/dist-packages/mrjob/sim.py\", line 170, in _run_step\n",
            "    self._run_streaming_step(step, step_num)\n",
            "  File \"/usr/local/lib/python3.9/dist-packages/mrjob/sim.py\", line 181, in _run_streaming_step\n",
            "    self._run_mappers_and_combiners(step_num, map_splits)\n",
            "  File \"/usr/local/lib/python3.9/dist-packages/mrjob/sim.py\", line 219, in _run_mappers_and_combiners\n",
            "    self._run_multiple(\n",
            "  File \"/usr/local/lib/python3.9/dist-packages/mrjob/sim.py\", line 130, in _run_multiple\n",
            "    func()\n",
            "  File \"/usr/local/lib/python3.9/dist-packages/mrjob/sim.py\", line 724, in _run_mapper_and_combiner\n",
            "    run_mapper()\n",
            "  File \"/usr/local/lib/python3.9/dist-packages/mrjob/sim.py\", line 746, in _run_task\n",
            "    invoke_task(\n",
            "  File \"/usr/local/lib/python3.9/dist-packages/mrjob/inline.py\", line 133, in invoke_task\n",
            "    task.execute()\n",
            "  File \"/usr/local/lib/python3.9/dist-packages/mrjob/job.py\", line 675, in execute\n",
            "    self.run_mapper(self.options.step_num)\n",
            "  File \"/usr/local/lib/python3.9/dist-packages/mrjob/job.py\", line 760, in run_mapper\n",
            "    for k, v in self.map_pairs(read_lines(), step_num=step_num):\n",
            "  File \"/usr/local/lib/python3.9/dist-packages/mrjob/job.py\", line 830, in map_pairs\n",
            "    for k, v in mapper(key, value) or ():\n",
            "  File \"/content/songcount.py\", line 9, in mapper\n",
            "    date = fields[1]\n",
            "IndexError: list index out of range\n"
          ]
        }
      ]
    }
  ]
}